{
 "cells": [
  {
   "cell_type": "code",
   "execution_count": 2,
   "id": "700c84b3",
   "metadata": {},
   "outputs": [],
   "source": [
    "# データ読み込み\n",
    "mix1 = load( 'MIX1.txt' );\n",
    "mix2 = load( 'MIX2.txt' );"
   ]
  },
  {
   "cell_type": "code",
   "execution_count": 3,
   "id": "3ced386b",
   "metadata": {},
   "outputs": [],
   "source": [
    "## 白色化\n",
    "\n",
    "# 観測データ行列\n",
    "X = [mix1 mix2]';\n",
    "\n",
    "# 分散共分散行列\n",
    "G = X * X' / size(X, 2);\n",
    "\n",
    "# 分散共分散行列の固有値・固有ベクトルを計算\n",
    "[P, L] = eig(G);\n",
    "[B, I] = sort(diag(L), \"descend\");\n",
    "P = P(:, I);\n",
    "L = diag(B);\n",
    "\n",
    "# 変換行列を計算\n",
    "T = diag(1 ./ sqrt(diag(L))) * P';\n",
    "\n",
    "# 観測データを変換\n",
    "Z = T * X;"
   ]
  },
  {
   "cell_type": "code",
   "execution_count": 4,
   "id": "4992413a",
   "metadata": {},
   "outputs": [],
   "source": [
    "# Kurtosis の絶対値を最大にするような θ を探索\n",
    "max_kurt = 0;\n",
    "max_theta = 0;\n",
    "for theta = 0:0.05:pi\n",
    "    # 回転行列を作成\n",
    "    R = [cos(theta), -sin(theta); sin(theta), cos(theta)];\n",
    "    \n",
    "    # データ Z を回転\n",
    "    Y = R * Z;\n",
    "    \n",
    "    # 1行目だけを取り出す\n",
    "    data = Y(1, :);\n",
    "    \n",
    "    # data の Kurtosis の絶対値を計算\n",
    "    tau = size(data, 2);\n",
    "    mu = mean(data);\n",
    "    numerator = 0;  # 分子\n",
    "    denominator = 0;  # 分母\n",
    "    for t = 1:tau\n",
    "        numerator += (Y(t) - mu)^4;\n",
    "        denominator += (Y(t) - mu)^2;\n",
    "    end\n",
    "    numerator /= tau;\n",
    "    denominator =  (denominator / tau)^2;\n",
    "    kurt = abs(numerator / denominator - 3);\n",
    "\n",
    "    # max_kurt より大きければ max_kurt と max_theta を更新\n",
    "    if (max_kurt < kurt)\n",
    "        max_kurt = kurt;\n",
    "        max_theta = theta;\n",
    "    end\n",
    "end"
   ]
  },
  {
   "cell_type": "code",
   "execution_count": 5,
   "id": "36d09588",
   "metadata": {},
   "outputs": [],
   "source": [
    "# max_theta を用いた回転行列をかける\n",
    "R = [cos(max_theta) -sin(max_theta) ; sin(max_theta) cos(max_theta)];\n",
    "Y = R * Z;"
   ]
  },
  {
   "cell_type": "code",
   "execution_count": 6,
   "id": "67c6f8bb",
   "metadata": {},
   "outputs": [],
   "source": [
    "audiowrite(\"P14_mix1.wav\", mix1/max(abs(mix1)), 44100);"
   ]
  },
  {
   "cell_type": "code",
   "execution_count": 7,
   "id": "2f02ff60",
   "metadata": {},
   "outputs": [],
   "source": [
    "audiowrite(\"P14_mix2.wav\", mix2/max(abs(mix2)), 44100);"
   ]
  },
  {
   "cell_type": "code",
   "execution_count": 8,
   "id": "0da58a4e",
   "metadata": {},
   "outputs": [],
   "source": [
    "audiowrite(\"P14_sound1.wav\", Y(1,:)/max(abs(Y(1,:))), 44100);"
   ]
  },
  {
   "cell_type": "code",
   "execution_count": 9,
   "id": "64cc3e0b",
   "metadata": {},
   "outputs": [],
   "source": [
    "audiowrite(\"P14_sound2.wav\", Y(2,:)/max(abs(Y(2,:))), 44100);"
   ]
  }
 ],
 "metadata": {
  "kernelspec": {
   "display_name": "Octave",
   "language": "octave",
   "name": "octave"
  },
  "language_info": {
   "file_extension": ".m",
   "help_links": [
    {
     "text": "GNU Octave",
     "url": "https://www.gnu.org/software/octave/support.html"
    },
    {
     "text": "Octave Kernel",
     "url": "https://github.com/Calysto/octave_kernel"
    },
    {
     "text": "MetaKernel Magics",
     "url": "https://metakernel.readthedocs.io/en/latest/source/README.html"
    }
   ],
   "mimetype": "text/x-octave",
   "name": "octave",
   "version": "5.2.0"
  }
 },
 "nbformat": 4,
 "nbformat_minor": 5
}
