{
 "cells": [
  {
   "cell_type": "code",
   "execution_count": 1,
   "id": "f22b5a31",
   "metadata": {},
   "outputs": [],
   "source": [
    "function [P, L] = EIG(A)\n",
    "    % 正方行列かどうかチェック\n",
    "    [r, c] = size(A);\n",
    "    if (r != c)\n",
    "        disp(\"Not a square matrix.\");\n",
    "        return;\n",
    "    end\n",
    "    \n",
    "    % 対称行列かどうかチェック\n",
    "    diff = A - A';\n",
    "    if (trace(diff' * diff) / trace(A' * A) > 0.0000000000001)\n",
    "        disp(\"Not a symmetric matrix.\");\n",
    "        return;\n",
    "    end\n",
    "\n",
    "    % 念の為厳密に対称行列にしておく\n",
    "    L = (A + A') / 2;\n",
    "    P = eye(r);\n",
    "\n",
    "    while(1)\n",
    "        % 非対角要素で絶対値が最大のものを探す\n",
    "        max_val = 0;\n",
    "        max_i = 1;\n",
    "        max_j = 1;\n",
    "        for i = 1:r\n",
    "            for j = 1:r\n",
    "            % 絶対値が最大となる位置を探す\n",
    "            % それぞれ max_i と max_j に格納\n",
    "                if (i != j)\n",
    "                    if (max_val < abs(L(i, j)))\n",
    "                        max_val = abs(L(i, j));\n",
    "                        max_i = i;\n",
    "                        max_j = j;\n",
    "                    end\n",
    "                end\n",
    "            end\n",
    "        end\n",
    "\n",
    "\n",
    "        if (max_val < 0.0000000000001)\n",
    "            break;\n",
    "        end\n",
    "        \n",
    "        % 角度 θ と回転行列 S を算出\n",
    "        theta = atan2(2 * L(max_i, max_j), L(max_i, max_i) - L(max_j, max_j)) / 2;\n",
    "        S = eye(r, r);\n",
    "        S(max_i, max_i) = cos(theta);\n",
    "        S(max_i, max_j) = -sin(theta);\n",
    "        S(max_j, max_i) = sin(theta);\n",
    "        S(max_j, max_j) = cos(theta);\n",
    "\n",
    "        % L と P を更新\n",
    "        L = S' * L * S;\n",
    "        P = P * S;\n",
    "    end\n",
    "    \n",
    "    % 固有値の絶対値の大きい順にソート\n",
    "     [B, I] = sort(diag(L), \"descend\");\n",
    "     L = diag(B);\n",
    "     P = P(:, I);\n",
    "     return;\n",
    "end"
   ]
  },
  {
   "cell_type": "code",
   "execution_count": 2,
   "id": "b66e3e3c",
   "metadata": {},
   "outputs": [
    {
     "name": "stdout",
     "output_type": "stream",
     "text": [
      "P =\n",
      "\n",
      "   0.705584   0.048361  -0.706974\n",
      "  -0.029238  -0.994832  -0.097232\n",
      "   0.708023  -0.089276   0.700524\n",
      "\n",
      "L =\n",
      "\n",
      "Diagonal Matrix\n",
      "\n",
      "   3.5133        0        0\n",
      "        0   1.0889        0\n",
      "        0        0  -2.1289\n",
      "\n",
      "P =\n",
      "\n",
      "  -0.705584  -0.048361   0.706974\n",
      "   0.029238   0.994832   0.097232\n",
      "  -0.708023   0.089276  -0.700524\n",
      "\n",
      "L =\n",
      "\n",
      "Diagonal Matrix\n",
      "\n",
      "   3.5133        0        0\n",
      "        0   1.0889        0\n",
      "        0        0  -2.1289\n",
      "\n"
     ]
    }
   ],
   "source": [
    "A = randn(3, 3);\n",
    "A = A + A';\n",
    "[P, L] = EIG(A)\n",
    "\n",
    "[P, L] = eig(A);\n",
    "[B, I] = sort(diag(L), \"descend\");\n",
    "P = P(:, I)\n",
    "L = diag(B)"
   ]
  },
  {
   "cell_type": "code",
   "execution_count": null,
   "id": "0989a0cf",
   "metadata": {},
   "outputs": [],
   "source": []
  }
 ],
 "metadata": {
  "kernelspec": {
   "display_name": "Octave",
   "language": "octave",
   "name": "octave"
  },
  "language_info": {
   "file_extension": ".m",
   "help_links": [
    {
     "text": "GNU Octave",
     "url": "https://www.gnu.org/software/octave/support.html"
    },
    {
     "text": "Octave Kernel",
     "url": "https://github.com/Calysto/octave_kernel"
    },
    {
     "text": "MetaKernel Magics",
     "url": "https://metakernel.readthedocs.io/en/latest/source/README.html"
    }
   ],
   "mimetype": "text/x-octave",
   "name": "octave",
   "version": "5.2.0"
  }
 },
 "nbformat": 4,
 "nbformat_minor": 5
}
