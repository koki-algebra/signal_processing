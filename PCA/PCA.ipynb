{
 "cells": [
  {
   "cell_type": "code",
   "execution_count": 1,
   "id": "be38a013",
   "metadata": {},
   "outputs": [],
   "source": [
    "function [P, L] = EIG(A)\n",
    "    % 正方行列かどうかチェック\n",
    "    [r, c] = size(A);\n",
    "    if (r != c)\n",
    "        disp(\"Not a square matrix.\");\n",
    "        return;\n",
    "    end\n",
    "    \n",
    "    % 対称行列かどうかチェック\n",
    "    diff = A - A';\n",
    "    if (trace(diff' * diff) / trace(A' * A) > 0.0000000000001)\n",
    "        disp(\"Not a symmetric matrix.\");\n",
    "        return;\n",
    "    end\n",
    "\n",
    "    % 念の為厳密に対称行列にしておく\n",
    "    L = (A + A') / 2;\n",
    "    P = eye(r);\n",
    "\n",
    "    while(1)\n",
    "        % 非対角要素で絶対値が最大のものを探す\n",
    "        max_val = 0;\n",
    "        max_i = 1;\n",
    "        max_j = 1;\n",
    "        for i = 1:r\n",
    "            for j = 1:r\n",
    "            % 絶対値が最大となる位置を探す\n",
    "            % それぞれ max_i と max_j に格納\n",
    "                if (i != j)\n",
    "                    if (max_val < abs(L(i, j)))\n",
    "                        max_val = abs(L(i, j));\n",
    "                        max_i = i;\n",
    "                        max_j = j;\n",
    "                    end\n",
    "                end\n",
    "            end\n",
    "        end\n",
    "\n",
    "\n",
    "        if (max_val < 0.0000000000001)\n",
    "            break;\n",
    "        end\n",
    "        \n",
    "        % 角度 θ と回転行列 S を算出\n",
    "        theta = atan2(2 * L(max_i, max_j), L(max_i, max_i) - L(max_j, max_j)) / 2;\n",
    "        S = eye(r, r);\n",
    "        S(max_i, max_i) = cos(theta);\n",
    "        S(max_i, max_j) = -sin(theta);\n",
    "        S(max_j, max_i) = sin(theta);\n",
    "        S(max_j, max_j) = cos(theta);\n",
    "\n",
    "        % L と P を更新\n",
    "        L = S' * L * S;\n",
    "        P = P * S;\n",
    "    end\n",
    "    \n",
    "    % 固有値の絶対値の大きい順にソート\n",
    "     [B, I] = sort(diag(L), \"descend\");\n",
    "     L = diag(B);\n",
    "     P = P(:, I);\n",
    "     return;\n",
    "end"
   ]
  },
  {
   "cell_type": "code",
   "execution_count": 2,
   "id": "70090983",
   "metadata": {},
   "outputs": [],
   "source": [
    "function [P, c, a] = PCA(data)\n",
    "    % データサイズ取得\n",
    "    [n, d] = size(data);\n",
    "    % 分散共分散行列算出\n",
    "    cov_mat = cov(data);\n",
    "    \n",
    "    % スペクトル分解\n",
    "    [P, L] = EIG(cov_mat);\n",
    "\n",
    "    % 寄与率算出\n",
    "    c = zeros(d, 1);\n",
    "    for i = 1:d\n",
    "        c(i) = L(i, i) / trace(L);\n",
    "    end\n",
    "\n",
    "    % 累積寄与率算出\n",
    "    a = zeros(d, 1);\n",
    "    for i = 1:d\n",
    "        for k = 1:i\n",
    "            a(i) += c(k);\n",
    "        end\n",
    "    end\n",
    "end"
   ]
  },
  {
   "cell_type": "code",
   "execution_count": 3,
   "id": "f89d3a5a",
   "metadata": {},
   "outputs": [
    {
     "name": "stdout",
     "output_type": "stream",
     "text": [
      "P =\r\n",
      "\r\n",
      "   0.52855  -0.84890\r\n",
      "   0.84890   0.52855\r\n",
      "\r\n",
      "c =\r\n",
      "\r\n",
      "   0.84186\r\n",
      "   0.15814\r\n",
      "\r\n",
      "a =\r\n",
      "\r\n",
      "   0.84186\r\n",
      "   1.00000\r\n",
      "\r\n"
     ]
    }
   ],
   "source": [
    "data = load(\"taikaku.txt\");\n",
    "[P, c, a] = PCA(data)"
   ]
  },
  {
   "cell_type": "code",
   "execution_count": 4,
   "id": "0ab0d4a0",
   "metadata": {},
   "outputs": [
    {
     "data": {
      "image/png": "[encoded data removed]",
      "text/plain": [
       "<IPython.core.display.Image object>"
      ]
     },
     "metadata": {},
     "output_type": "display_data"
    }
   ],
   "source": [
    "scatter(data(:, 1), data(:, 2));\n",
    "hold on;\n",
    "ave = mean(data);\n",
    "\n",
    "% 矢印がスケールされないのでベクトルを直接スカラー倍\n",
    "scale = 10;\n",
    "quiver(ave(1), ave(2), P(1, 1) * scale, P(2, 1) * scale);\n",
    "quiver(ave(1), ave(2), P(1, 2) * scale, P(2, 2) * scale);\n",
    "daspect([1, 1, 1]);"
   ]
  },
  {
   "cell_type": "code",
   "execution_count": null,
   "id": "713a12e6",
   "metadata": {},
   "outputs": [],
   "source": []
  }
 ],
 "metadata": {
  "kernelspec": {
   "display_name": "Octave",
   "language": "octave",
   "name": "octave"
  },
  "language_info": {
   "file_extension": ".m",
   "help_links": [
    {
     "text": "GNU Octave",
     "url": "https://www.gnu.org/software/octave/support.html"
    },
    {
     "text": "Octave Kernel",
     "url": "https://github.com/Calysto/octave_kernel"
    },
    {
     "text": "MetaKernel Magics",
     "url": "https://metakernel.readthedocs.io/en/latest/source/README.html"
    }
   ],
   "mimetype": "text/x-octave",
   "name": "octave",
   "version": "5.2.0"
  }
 },
 "nbformat": 4,
 "nbformat_minor": 5
}
