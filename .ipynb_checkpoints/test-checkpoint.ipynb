{
 "cells": [
  {
   "cell_type": "code",
   "execution_count": 1,
   "id": "30fe346f",
   "metadata": {},
   "outputs": [],
   "source": [
    "function img = data2img( data, r, c )\n",
    "\n",
    "  data = data';\n",
    "  [d,n] = size( data );\n",
    "  bs = sqrt( d );\n",
    "  if( r*c != d*n )\n",
    "    disp( \"Size mismatch\" );\n",
    "    return;\n",
    "  end\n",
    "  \n",
    "  img = zeros( r, c );\n",
    "  count = 1;\n",
    "  for i=1:bs:r\n",
    "    for j=1:bs:c\n",
    "      img(i:i+bs-1,j:j+bs-1) = reshape( data(:,count), bs,bs );\n",
    "      count = count + 1;\n",
    "    end\n",
    "  end\n",
    "end"
   ]
  },
  {
   "cell_type": "code",
   "execution_count": 2,
   "id": "48b85253",
   "metadata": {},
   "outputs": [],
   "source": [
    "function ret = img2data( img, bs )\n",
    "\n",
    "  [r,c] = size( img );\n",
    "\n",
    "  ret = [];\n",
    "  for i=1:bs:r\n",
    "    for j=1:bs:c\n",
    "      ret = [ret reshape( img(i:i+bs-1,j:j+bs-1), bs*bs, 1 ) ];\n",
    "    end\n",
    "  end\n",
    "\n",
    "  ret = ret';\n",
    "  \n",
    "end"
   ]
  },
  {
   "cell_type": "code",
   "execution_count": 3,
   "id": "1f775534",
   "metadata": {},
   "outputs": [],
   "source": [
    "function [P, L] = EIG(A)\n",
    "    % 正方行列かどうかチェック\n",
    "    [r, c] = size(A);\n",
    "    if (r != c)\n",
    "        disp(\"Not a square matrix.\");\n",
    "        return;\n",
    "    end\n",
    "    \n",
    "    % 対称行列かどうかチェック\n",
    "    diff = A - A';\n",
    "    if (trace(diff' * diff) / trace(A' * A) > 0.0000000000001)\n",
    "        disp(\"Not a symmetric matrix.\");\n",
    "        return;\n",
    "    end\n",
    "    \n",
    "    % 念の為厳密に対称行列にしておく\n",
    "    L = (A + A') / 2;\n",
    "    P = eye(r);\n",
    "    \n",
    "    while(1)\n",
    "        % 非対角要素で絶対値が最大のものを探す\n",
    "        max_val = 0;\n",
    "        max_i = 1;\n",
    "        max_j = 1;\n",
    "        for i = 1:r\n",
    "            % 絶対値が最大となる位置を探す\n",
    "            % それぞれ max_i と max_j に格納\n",
    "            for k = 1:r\n",
    "                for l = 1:r\n",
    "                    if (k != l)\n",
    "                        if (max_val < abs(L(k, l)))\n",
    "                            max_val = abs(L(k, l));\n",
    "                            max_i = k;\n",
    "                            max_j = l;\n",
    "                        end\n",
    "                    end\n",
    "                end\n",
    "            end\n",
    "        end\n",
    "\n",
    "\n",
    "        if (max_val < 0.0000000000001)\n",
    "            break;\n",
    "        end\n",
    "        \n",
    "        % 角度 θ と回転行列 S を算出\n",
    "        theta = atan2(2 * L(max_i, max_j), L(max_i, max_i) - L(max_j, max_j)) / 2;\n",
    "        S = eye(r, r);\n",
    "        S(max_i, max_i) = cos(theta);\n",
    "        S(max_i, max_j) = -sin(theta);\n",
    "        S(max_j, max_i) = sin(theta);\n",
    "        S(max_j, max_j) = cos(theta);\n",
    "\n",
    "        % L と P を更新\n",
    "        L = S' * L * S;\n",
    "        P = P * S;\n",
    "    end\n",
    "    \n",
    "    % 固有値の絶対値の大きい順にソート\n",
    "     [B, I] = sort(diag(L), \"descend\");\n",
    "     L = diag(B);\n",
    "     P = P(:, I);\n",
    "     return;\n",
    "end"
   ]
  },
  {
   "cell_type": "code",
   "execution_count": 4,
   "id": "75fe693e",
   "metadata": {},
   "outputs": [],
   "source": [
    "function [P, c, a] = PCA(data)\n",
    "    % データサイズ取得\n",
    "    [n, d] = size(data);\n",
    "    % 分散共分散行列算出\n",
    "    cov_mat = cov(data);\n",
    "    \n",
    "    % スペクトル分解\n",
    "    [P, L] = EIG(cov_mat);\n",
    "\n",
    "    % 寄与率算出\n",
    "    c = zeros(d, 1);\n",
    "    for i = 1:d\n",
    "        c(i) = L(i, i) / trace(L);\n",
    "    end\n",
    "\n",
    "    % 累積寄与率算出\n",
    "    a = zeros(d, 1);\n",
    "    for i = 1:d\n",
    "        for k = 1:i\n",
    "            a(i) += c(k);\n",
    "        end\n",
    "    end\n",
    "end"
   ]
  },
  {
   "cell_type": "code",
   "execution_count": 5,
   "id": "69bbb764",
   "metadata": {},
   "outputs": [],
   "source": [
    "function [ret, num] = PCA_represent(data, ac)\n",
    "    % 主成分分析\n",
    "    [P, c, a] = PCA(data);\n",
    "    \n",
    "    % 平均ベクトル算出\n",
    "    ave = mean(data);\n",
    "\n",
    "    % 後で全データに平均をまとめて足しこむための準備\n",
    "    avemat = ones(size(data, 1), 1) * ave;\n",
    "    \n",
    "    % 本数を取得\n",
    "    num = size(find(a < ac), 1);\n",
    "\n",
    "    % 累積寄与率 ac となる部分の主成分を取得\n",
    "    basis = P(:, 1:num);\n",
    "\n",
    "    % 射影子を作成\n",
    "    Prj = basis * basis';\n",
    "\n",
    "    % データ再構成\n",
    "    ret = (data - avemat) * Prj' + avemat;\n",
    "    return;\n",
    "end"
   ]
  },
  {
   "cell_type": "code",
   "execution_count": 7,
   "id": "9fa56e6b",
   "metadata": {},
   "outputs": [],
   "source": [
    "# 画像読み込み\n",
    "img = im2double(imread(\"sample/LENA256.pgm\"));\n",
    "# 画像を多変量データに変換\n",
    "data = img2data(img, 8);"
   ]
  },
  {
   "cell_type": "code",
   "execution_count": 10,
   "id": "0da36cae",
   "metadata": {},
   "outputs": [
    {
     "name": "stdout",
     "output_type": "stream",
     "text": [
      "n =  1024\r\n",
      "d =  64\r\n"
     ]
    }
   ],
   "source": [
    "[n, d] = size(data)"
   ]
  },
  {
   "cell_type": "code",
   "execution_count": 11,
   "id": "892a7d61",
   "metadata": {},
   "outputs": [],
   "source": [
    "cov_mat = cov(data);"
   ]
  },
  {
   "cell_type": "code",
   "execution_count": 12,
   "id": "7c607995",
   "metadata": {},
   "outputs": [
    {
     "name": "stdout",
     "output_type": "stream",
     "text": [
      "ans =\r\n",
      "\r\n",
      "   64   64\r\n",
      "\r\n"
     ]
    }
   ],
   "source": [
    "size(cov_mat)"
   ]
  },
  {
   "cell_type": "code",
   "execution_count": 16,
   "id": "7e5926a2",
   "metadata": {},
   "outputs": [],
   "source": [
    "[P, L] = eig(cov_mat);\n",
    "[B, I] = sort(diag(L), \"descend\");\n",
    "P = P(:, I);\n",
    "L = diag(B);"
   ]
  },
  {
   "cell_type": "code",
   "execution_count": 19,
   "id": "bf1e4fd1",
   "metadata": {},
   "outputs": [],
   "source": [
    "c = zeros(d, 1);\n",
    "for i = 1:d\n",
    "    c(i) = L(i, i) / trace(L);\n",
    "end"
   ]
  },
  {
   "cell_type": "code",
   "execution_count": 21,
   "id": "cf9a09fb",
   "metadata": {},
   "outputs": [],
   "source": [
    "% 累積寄与率算出\n",
    "a = zeros(d, 1);\n",
    "for i = 1:d\n",
    "    for k = 1:i\n",
    "        a(i) += c(k);\n",
    "    end\n",
    "end"
   ]
  },
  {
   "cell_type": "code",
   "execution_count": 22,
   "id": "fe259167",
   "metadata": {},
   "outputs": [
    {
     "name": "stdout",
     "output_type": "stream",
     "text": [
      "a =\r\n",
      "\r\n",
      "   0.81335\r\n",
      "   0.88511\r\n",
      "   0.91618\r\n",
      "   0.93690\r\n",
      "   0.95000\r\n",
      "   0.95954\r\n",
      "   0.96474\r\n",
      "   0.96984\r\n",
      "   0.97386\r\n",
      "   0.97711\r\n",
      "   0.97985\r\n",
      "   0.98196\r\n",
      "   0.98379\r\n",
      "   0.98524\r\n",
      "   0.98657\r\n",
      "   0.98769\r\n",
      "   0.98876\r\n",
      "   0.98972\r\n",
      "   0.99061\r\n",
      "   0.99130\r\n",
      "   0.99198\r\n",
      "   0.99259\r\n",
      "   0.99314\r\n",
      "   0.99362\r\n",
      "   0.99406\r\n",
      "   0.99445\r\n",
      "   0.99482\r\n",
      "   0.99516\r\n",
      "   0.99548\r\n",
      "   0.99579\r\n",
      "   0.99606\r\n",
      "   0.99631\r\n",
      "   0.99655\r\n",
      "   0.99677\r\n",
      "   0.99698\r\n",
      "   0.99718\r\n",
      "   0.99736\r\n",
      "   0.99754\r\n",
      "   0.99770\r\n",
      "   0.99785\r\n",
      "   0.99800\r\n",
      "   0.99813\r\n",
      "   0.99826\r\n",
      "   0.99839\r\n",
      "   0.99851\r\n",
      "   0.99862\r\n",
      "   0.99873\r\n",
      "   0.99883\r\n",
      "   0.99894\r\n",
      "   0.99903\r\n",
      "   0.99912\r\n",
      "   0.99921\r\n",
      "   0.99930\r\n",
      "   0.99938\r\n",
      "   0.99945\r\n",
      "   0.99952\r\n",
      "   0.99959\r\n",
      "   0.99966\r\n",
      "   0.99972\r\n",
      "   0.99979\r\n",
      "   0.99984\r\n",
      "   0.99990\r\n",
      "   0.99995\r\n",
      "   1.00000\r\n",
      "\r\n"
     ]
    }
   ],
   "source": [
    "a"
   ]
  },
  {
   "cell_type": "code",
   "execution_count": null,
   "id": "d086007b",
   "metadata": {},
   "outputs": [],
   "source": []
  }
 ],
 "metadata": {
  "kernelspec": {
   "display_name": "Octave",
   "language": "octave",
   "name": "octave"
  },
  "language_info": {
   "file_extension": ".m",
   "help_links": [
    {
     "text": "GNU Octave",
     "url": "https://www.gnu.org/software/octave/support.html"
    },
    {
     "text": "Octave Kernel",
     "url": "https://github.com/Calysto/octave_kernel"
    },
    {
     "text": "MetaKernel Magics",
     "url": "https://metakernel.readthedocs.io/en/latest/source/README.html"
    }
   ],
   "mimetype": "text/x-octave",
   "name": "octave",
   "version": "5.2.0"
  }
 },
 "nbformat": 4,
 "nbformat_minor": 5
}
