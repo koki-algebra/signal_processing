{
 "cells": [
  {
   "cell_type": "code",
   "execution_count": 5,
   "id": "2c78b5be",
   "metadata": {},
   "outputs": [],
   "source": [
    "function x = LIN_SOL_U( A, b )\n",
    "  x = NaN;\n",
    "\n",
    "  [r,c] = size( A );\n",
    "  if( r != c || r != size(b,1) )\n",
    "    disp( 'Size mismatch.');\n",
    "    return;\n",
    "  end\n",
    "\n",
    "  x = zeros( r, 1 );\n",
    "\n",
    "  for i=r:-1:1\n",
    "    % 解を計算する(こちらは、上三角なので下から計算する)\n",
    "    x(i, 1) = (b(i) - A(i, i+1:r) * x(i+1:r)) / A(i, i);\n",
    "  end\n",
    "end"
   ]
  },
  {
   "cell_type": "code",
   "execution_count": 7,
   "id": "cdf84171",
   "metadata": {},
   "outputs": [
    {
     "name": "stdout",
     "output_type": "stream",
     "text": [
      "x1 =\n",
      "\n",
      "  -0.692760\n",
      "   0.057625\n",
      "  -0.104141\n",
      "   0.102146\n",
      "\n",
      "x2 =\n",
      "\n",
      "  -0.692760\n",
      "   0.057625\n",
      "  -0.104141\n",
      "   0.102146\n",
      "\n"
     ]
    }
   ],
   "source": [
    "A = [ 1 2 3 4 ; 0 5 6 7 ; 0 0 8 9 ; 0 0 0 10 ];\n",
    "b = randn(4, 1);\n",
    "x1 = LIN_SOL_U(A, b)\n",
    "x2 = inv(A) * b"
   ]
  },
  {
   "cell_type": "code",
   "execution_count": null,
   "id": "f5a10476",
   "metadata": {},
   "outputs": [],
   "source": []
  }
 ],
 "metadata": {
  "kernelspec": {
   "display_name": "Octave",
   "language": "octave",
   "name": "octave"
  },
  "language_info": {
   "file_extension": ".m",
   "help_links": [
    {
     "text": "GNU Octave",
     "url": "https://www.gnu.org/software/octave/support.html"
    },
    {
     "text": "Octave Kernel",
     "url": "https://github.com/Calysto/octave_kernel"
    },
    {
     "text": "MetaKernel Magics",
     "url": "https://metakernel.readthedocs.io/en/latest/source/README.html"
    }
   ],
   "mimetype": "text/x-octave",
   "name": "octave",
   "version": "5.2.0"
  }
 },
 "nbformat": 4,
 "nbformat_minor": 5
}
