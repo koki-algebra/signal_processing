{
 "cells": [
  {
   "cell_type": "code",
   "execution_count": 1,
   "id": "98ab746a",
   "metadata": {},
   "outputs": [],
   "source": [
    "function x = LIN_SOL_L( A, b )\n",
    "    x = NaN;\n",
    "    [r, c] = size( A );\n",
    "    # 行列のサイズチェック\n",
    "    if( r != c || r != size(b,1) )\n",
    "        disp(\"Size mismatch.\");\n",
    "        return;\n",
    "    end\n",
    "    \n",
    "    x = zeros( r, 1 );\n",
    "    for i=1:r\n",
    "        x(i, 1) = ( b(i) - A(i, 1:i-1) * x(1:i-1) ) / A(i, i);\n",
    "    end\n",
    "end"
   ]
  },
  {
   "cell_type": "code",
   "execution_count": 2,
   "id": "194ad8d1",
   "metadata": {},
   "outputs": [],
   "source": [
    "function x = LIN_SOL_U( A, b )\n",
    "  x = NaN;\n",
    "\n",
    "  [r,c] = size( A );\n",
    "  if( r != c || r != size(b,1) )\n",
    "    disp( 'Size mismatch.');\n",
    "    return;\n",
    "  end\n",
    "\n",
    "  x = zeros( r, 1 );\n",
    "\n",
    "  for i=r:-1:1\n",
    "    % 解を計算する(こちらは、上三角なので下から計算する)\n",
    "    x(i, 1) = (b(i) - A(i, i+1:r) * x(i+1:r)) / A(i, i);\n",
    "  end\n",
    "end"
   ]
  },
  {
   "cell_type": "code",
   "execution_count": 3,
   "id": "526ee202",
   "metadata": {},
   "outputs": [],
   "source": [
    "function [L, U, P, sg] = LU(A)\n",
    "    # 行列Aの行数と列数取得\n",
    "    [r, c] = size(A);\n",
    "\n",
    "    # 行列初期化\n",
    "    L = zeros(r, r);\n",
    "    U = A;\n",
    "    P = eye(r, r);\n",
    "    \n",
    "    # 行交換回数初期化\n",
    "    count = 0;\n",
    "    sg = 1;\n",
    "\n",
    "    for i = 1:r-1\n",
    "        if (U(i, i) == 0)\n",
    "            # 0 でない要素を探し、行交換\n",
    "            for j = i+1:r\n",
    "                if (U(j, i) != 0)\n",
    "                    # 行列Uの行交換\n",
    "                    tmp = U(j, :);\n",
    "                    U(j, :) = U(i, :);\n",
    "                    U(i, :) = tmp;\n",
    "                    \n",
    "                    # 行列Lの交換\n",
    "                    tmp = L(j, :);\n",
    "                    L (j, :) = L(i, :);\n",
    "                    L(i, :) = tmp;\n",
    "                    \n",
    "                    # 行列Pの行交換\n",
    "                    tmp = P(j, :);\n",
    "                    P(j, :) = P(i, :);\n",
    "                    P(i, :) = tmp;\n",
    "\n",
    "                    # 交換回数をインクリメント\n",
    "                    count++;\n",
    "                    break;\n",
    "                end\n",
    "            end\n",
    "        end\n",
    "        \n",
    "        pivot = U(i, i);\n",
    "        # 停止条件\n",
    "        if (abs(pivot) < 0.0000000000000001)\n",
    "            break;\n",
    "        end\n",
    "\n",
    "        for j = i+1:r\n",
    "            L(j, i) = U(j, i) / pivot;\n",
    "            U(j, :) = U(j, :) - L(j, i) * U(i, :);\n",
    "        end\n",
    "    end\n",
    "    \n",
    "    # sg 算出\n",
    "    if (mod(count, 2) == 0)\n",
    "        sg = 1;\n",
    "    else\n",
    "        sg = -1;\n",
    "    end\n",
    "    # 行列Lの対角成分を1にする。\n",
    "    for j = 1:r\n",
    "        L(j, j) = 1;\n",
    "    end\n",
    "end"
   ]
  },
  {
   "cell_type": "code",
   "execution_count": 6,
   "id": "0ec46cb7",
   "metadata": {},
   "outputs": [],
   "source": [
    "function sol = LIN_SOL(A, b)\n",
    "    # LU分解\n",
    "    [L, U, P, _] = LU(A);\n",
    "    \n",
    "    b = P * b;\n",
    "    c = LIN_SOL_L(L, b);\n",
    "    sol = LIN_SOL_U(U, c);\n",
    "end"
   ]
  },
  {
   "cell_type": "code",
   "execution_count": 7,
   "id": "d2906f71",
   "metadata": {},
   "outputs": [
    {
     "name": "stdout",
     "output_type": "stream",
     "text": [
      "x1 =\n",
      "\n",
      "  -1.21505\n",
      "  -2.22059\n",
      "   0.56625\n",
      "   1.24746\n",
      "   1.12782\n",
      "\n",
      "x2 =\n",
      "\n",
      "  -1.21505\n",
      "  -2.22059\n",
      "   0.56625\n",
      "   1.24746\n",
      "   1.12782\n",
      "\n"
     ]
    }
   ],
   "source": [
    "A = randn( 5, 5 );\n",
    "b = randn( 5, 1 );\n",
    "x1 = LIN_SOL( A, b )\n",
    "x2 = inv(A) * b"
   ]
  }
 ],
 "metadata": {
  "kernelspec": {
   "display_name": "Octave",
   "language": "octave",
   "name": "octave"
  },
  "language_info": {
   "file_extension": ".m",
   "help_links": [
    {
     "text": "GNU Octave",
     "url": "https://www.gnu.org/software/octave/support.html"
    },
    {
     "text": "Octave Kernel",
     "url": "https://github.com/Calysto/octave_kernel"
    },
    {
     "text": "MetaKernel Magics",
     "url": "https://metakernel.readthedocs.io/en/latest/source/README.html"
    }
   ],
   "mimetype": "text/x-octave",
   "name": "octave",
   "version": "5.2.0"
  }
 },
 "nbformat": 4,
 "nbformat_minor": 5
}
