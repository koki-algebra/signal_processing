{
 "cells": [
  {
   "cell_type": "code",
   "execution_count": 2,
   "id": "99dd687c",
   "metadata": {},
   "outputs": [],
   "source": [
    "function [L,U] = LU_simple( A )\n",
    "    [r,c] = size( A );\n",
    "    L = eye( r, r );\n",
    "    U = A;\n",
    "    for i=1:r-1\n",
    "        pivot = U(i,i);\n",
    "        if( abs( pivot ) < 0.0000000000000001 )\n",
    "        return;\n",
    "    end\n",
    "    for j=i+1:r\n",
    "        L(j,i) = U(j,i) / pivot;\n",
    "        U(j,:) = U(j,:) - L(j,i) * U(i,:);\n",
    "    end\n",
    "    end\n",
    "end"
   ]
  },
  {
   "cell_type": "code",
   "execution_count": 3,
   "id": "79557bf3",
   "metadata": {},
   "outputs": [
    {
     "name": "stdout",
     "output_type": "stream",
     "text": [
      "ans =\r\n",
      "\r\n",
      "   0.0000e+00   0.0000e+00   0.0000e+00   0.0000e+00   0.0000e+00\r\n",
      "   0.0000e+00  -5.5511e-17   0.0000e+00   0.0000e+00   0.0000e+00\r\n",
      "   0.0000e+00  -2.2204e-16   6.1062e-16   1.1102e-16   8.8818e-16\r\n",
      "   0.0000e+00  -8.8818e-16   0.0000e+00   2.5813e-15  -2.9161e-15\r\n",
      "   0.0000e+00   0.0000e+00   0.0000e+00  -2.4980e-16   3.3307e-16\r\n",
      "\r\n"
     ]
    }
   ],
   "source": [
    " A = randn( 5, 5 );\n",
    " [L,U] = LU_simple( A );\n",
    " A - L * U"
   ]
  },
  {
   "cell_type": "code",
   "execution_count": null,
   "id": "8f795036",
   "metadata": {},
   "outputs": [],
   "source": []
  }
 ],
 "metadata": {
  "kernelspec": {
   "display_name": "Octave",
   "language": "octave",
   "name": "octave"
  },
  "language_info": {
   "file_extension": ".m",
   "help_links": [
    {
     "text": "GNU Octave",
     "url": "https://www.gnu.org/software/octave/support.html"
    },
    {
     "text": "Octave Kernel",
     "url": "https://github.com/Calysto/octave_kernel"
    },
    {
     "text": "MetaKernel Magics",
     "url": "https://metakernel.readthedocs.io/en/latest/source/README.html"
    }
   ],
   "mimetype": "text/x-octave",
   "name": "octave",
   "version": "5.2.0"
  }
 },
 "nbformat": 4,
 "nbformat_minor": 5
}
