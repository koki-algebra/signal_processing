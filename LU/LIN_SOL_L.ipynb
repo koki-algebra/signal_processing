{
 "cells": [
  {
   "cell_type": "code",
   "execution_count": 4,
   "id": "0ce91ea3",
   "metadata": {},
   "outputs": [],
   "source": [
    "function x = LIN_SOL_L( A, b )\n",
    "    x = NaN;\n",
    "    [r, c] = size( A );\n",
    "    # 行列のサイズチェック\n",
    "    if( r != c || r != size(b,1) )\n",
    "        disp(\"Size mismatch.\");\n",
    "        return;\n",
    "    end\n",
    "    \n",
    "    x = zeros( r, 1 );\n",
    "    for i=1:r\n",
    "        x(i, 1) = ( b(i) - A(i, 1:i-1) * x(1:i-1) ) / A(i, i);\n",
    "    end\n",
    "end"
   ]
  },
  {
   "cell_type": "code",
   "execution_count": null,
   "id": "f7667d78",
   "metadata": {},
   "outputs": [],
   "source": []
  }
 ],
 "metadata": {
  "kernelspec": {
   "display_name": "Octave",
   "language": "octave",
   "name": "octave"
  },
  "language_info": {
   "file_extension": ".m",
   "help_links": [
    {
     "text": "GNU Octave",
     "url": "https://www.gnu.org/software/octave/support.html"
    },
    {
     "text": "Octave Kernel",
     "url": "https://github.com/Calysto/octave_kernel"
    },
    {
     "text": "MetaKernel Magics",
     "url": "https://metakernel.readthedocs.io/en/latest/source/README.html"
    }
   ],
   "mimetype": "text/x-octave",
   "name": "octave",
   "version": "5.2.0"
  }
 },
 "nbformat": 4,
 "nbformat_minor": 5
}
