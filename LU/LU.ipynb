{
 "cells": [
  {
   "cell_type": "code",
   "execution_count": 87,
   "id": "8a3f0e70",
   "metadata": {},
   "outputs": [],
   "source": [
    "function [L, U, P, sg] = LU(A)\n",
    "    # 行列Aの行数と列数取得\n",
    "    [r, c] = size(A);\n",
    "\n",
    "    # 行列初期化\n",
    "    L = zeros(r, r);\n",
    "    U = A;\n",
    "    P = eye(r, r);\n",
    "    \n",
    "    # 行交換回数初期化\n",
    "    count = 0;\n",
    "    sg = 1;\n",
    "\n",
    "    for i = 1:r-1\n",
    "        if (U(i, i) == 0)\n",
    "            # 0 でない要素を探し、行交換\n",
    "            for j = i+1:r\n",
    "                if (U(j, i) != 0)\n",
    "                    # 行列Uの行交換\n",
    "                    tmp = U(j, :);\n",
    "                    U(j, :) = U(i, :);\n",
    "                    U(i, :) = tmp;\n",
    "                    \n",
    "                    # 行列Lの交換\n",
    "                    tmp = L(j, :);\n",
    "                    L (j, :) = L(i, :);\n",
    "                    L(i, :) = tmp;\n",
    "                    \n",
    "                    # 行列Pの行交換\n",
    "                    tmp = P(j, :);\n",
    "                    P(j, :) = P(i, :);\n",
    "                    P(i, :) = tmp;\n",
    "\n",
    "                    # 交換回数をインクリメント\n",
    "                    count++;\n",
    "                    break;\n",
    "                end\n",
    "            end\n",
    "        end\n",
    "        \n",
    "        pivot = U(i, i);\n",
    "        # 停止条件\n",
    "        if (abs(pivot) < 0.0000000000000001)\n",
    "            break;\n",
    "        end\n",
    "\n",
    "        for j = i+1:r\n",
    "            L(j, i) = U(j, i) / pivot;\n",
    "            U(j, :) = U(j, :) - L(j, i) * U(i, :);\n",
    "        end\n",
    "    end\n",
    "    \n",
    "    # sg 算出\n",
    "    if (mod(count, 2) == 0)\n",
    "        sg = 1;\n",
    "    else\n",
    "        sg = -1;\n",
    "    end\n",
    "    # 行列Lの対角成分を1にする。\n",
    "    for j = 1:r\n",
    "        L(j, j) = 1;\n",
    "    end\n",
    "end"
   ]
  },
  {
   "cell_type": "code",
   "execution_count": 93,
   "id": "74a3c174",
   "metadata": {},
   "outputs": [
    {
     "name": "stdout",
     "output_type": "stream",
     "text": [
      "ans =\r\n",
      "\r\n",
      "   0.0000e+00   0.0000e+00   0.0000e+00   0.0000e+00   0.0000e+00\r\n",
      "   0.0000e+00   0.0000e+00   0.0000e+00   2.2204e-16   0.0000e+00\r\n",
      "   0.0000e+00  -1.6653e-16  -8.8818e-16   2.2204e-16   8.8818e-16\r\n",
      "   0.0000e+00   0.0000e+00  -5.5511e-17  -1.6653e-16   2.2204e-16\r\n",
      "  -5.5511e-17  -1.1102e-16   1.9429e-16  -2.0817e-16   0.0000e+00\r\n",
      "\r\n"
     ]
    }
   ],
   "source": [
    "A = randn( 5, 5 );\n",
    "% A = [1, 1, 1; 2, 2, 3; 3, 4, 5];\n",
    "[L, U, P, sg] = LU( A );\n",
    "P * A - L * U"
   ]
  },
  {
   "cell_type": "code",
   "execution_count": null,
   "id": "21595e9d",
   "metadata": {},
   "outputs": [],
   "source": []
  }
 ],
 "metadata": {
  "kernelspec": {
   "display_name": "Octave",
   "language": "octave",
   "name": "octave"
  },
  "language_info": {
   "file_extension": ".m",
   "help_links": [
    {
     "text": "GNU Octave",
     "url": "https://www.gnu.org/software/octave/support.html"
    },
    {
     "text": "Octave Kernel",
     "url": "https://github.com/Calysto/octave_kernel"
    },
    {
     "text": "MetaKernel Magics",
     "url": "https://metakernel.readthedocs.io/en/latest/source/README.html"
    }
   ],
   "mimetype": "text/x-octave",
   "name": "octave",
   "version": "5.2.0"
  }
 },
 "nbformat": 4,
 "nbformat_minor": 5
}
